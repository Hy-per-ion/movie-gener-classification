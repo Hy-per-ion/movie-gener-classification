{
 "cells": [
  {
   "cell_type": "code",
   "execution_count": 1,
   "metadata": {},
   "outputs": [],
   "source": [
    "import pandas as pd\n",
    "import re\n",
    "from gensim.models import Word2Vec\n",
    "from sklearn.ensemble import RandomForestClassifier\n",
    "from sklearn.model_selection import train_test_split\n",
    "from sklearn.metrics import accuracy_score, precision_score, recall_score, classification_report, confusion_matrix\n",
    "from sklearn.preprocessing import LabelEncoder"
   ]
  },
  {
   "cell_type": "code",
   "execution_count": 2,
   "metadata": {},
   "outputs": [],
   "source": [
    "def get_sentence_embedding(sentence, word2vec_model):\n",
    "    words = re.findall(r'\\w+', sentence.lower())\n",
    "    vectors = [word2vec_model.wv[word] for word in words if word in word2vec_model.wv]\n",
    "    return sum(vectors) / len(vectors) if vectors else [0] * 100"
   ]
  },
  {
   "cell_type": "code",
   "execution_count": 3,
   "metadata": {},
   "outputs": [],
   "source": [
    "def train_model():\n",
    "    train_data = pd.read_csv(\"train_data.txt\", sep=':::', names=['Title', 'Genre', 'Description'], engine='python')\n",
    "    test_data = pd.read_csv(\"test_data.txt\", sep=':::', names=['Title', 'Description'], engine='python')\n",
    "    combined_data = pd.concat([train_data, test_data], ignore_index=True)\n",
    "    data = combined_data.copy()\n",
    "    data.dropna(inplace=True)\n",
    "    corpus = data[\"Description\"].apply(lambda x: re.findall(r'\\w+', x.lower()))\n",
    "    word2vec_model = Word2Vec(corpus, vector_size=100, window=5, min_count=1, workers=4)\n",
    "\n",
    "    data[\"embeddings\"] = data[\"Description\"].apply(lambda x: get_sentence_embedding(x, word2vec_model))\n",
    "    \n",
    "    label_encoder = LabelEncoder()\n",
    "    data[\"genre_encoded\"] = label_encoder.fit_transform(data[\"Genre\"])\n",
    "    \n",
    "    y = data[\"genre_encoded\"]\n",
    "    X = pd.DataFrame(data[\"embeddings\"].to_list())\n",
    "    \n",
    "    X_train, X_test, y_train, y_test = train_test_split(X, y, test_size=0.2, random_state=42)\n",
    "    model = RandomForestClassifier(n_estimators=100, random_state=42)\n",
    "    model.fit(X_train, y_train)\n",
    "\n",
    "    return model, label_encoder, word2vec_model"
   ]
  },
  {
   "cell_type": "code",
   "execution_count": 4,
   "metadata": {},
   "outputs": [],
   "source": [
    "def predict_genre(model, label_encoder, word2vec_model, new_descriptions):\n",
    "    new_embeddings = [get_sentence_embedding(desc, word2vec_model) for desc in new_descriptions]\n",
    "    new_X = pd.DataFrame(new_embeddings)\n",
    "    new_predictions = model.predict(new_X)\n",
    "    predicted_genres = label_encoder.inverse_transform(new_predictions)\n",
    "\n",
    "    return predicted_genres"
   ]
  },
  {
   "cell_type": "code",
   "execution_count": 5,
   "metadata": {},
   "outputs": [],
   "source": [
    "trained_model, genre_label_encoder, trained_word2vec_model = train_model()"
   ]
  },
  {
   "cell_type": "code",
   "execution_count": 15,
   "metadata": {},
   "outputs": [
    {
     "name": "stdout",
     "output_type": "stream",
     "text": [
      "Description: When a privileged student filmmaker teams up with an acclaimed documentary filmmaker they both learn a valuable life lesson about the human condition.\n",
      "Predicted Genre:  documentary \n",
      "\n",
      "Description: It is a modern-day adaptation of William Shakespeare's Othello. The film's title is derived from a Malay idiom meaning web of deceit or conspiracy, which is a major theme in the plot of the film. The plot remains faithful to the source material, with the cast all taking their Shakespearian counterparts either in name, character or both.\n",
      "Predicted Genre:  short \n",
      "\n",
      "Description: A tight team of three young law student Abby, dropout daredevil Jay and wheelchair bound tech whiz Milton - hire themselves out to people who want to get into places they're not supposed to be in.\n",
      "Predicted Genre:  comedy \n",
      "\n"
     ]
    }
   ],
   "source": [
    "new_descriptions = [\"When a privileged student filmmaker teams up with an acclaimed documentary filmmaker they both learn a valuable life lesson about the human condition.\",\n",
    "                    \"It is a modern-day adaptation of William Shakespeare's Othello. The film's title is derived from a Malay idiom meaning web of deceit or conspiracy, which is a major theme in the plot of the film. The plot remains faithful to the source material, with the cast all taking their Shakespearian counterparts either in name, character or both.\",\n",
    "                    \"A tight team of three young law student Abby, dropout daredevil Jay and wheelchair bound tech whiz Milton - hire themselves out to people who want to get into places they're not supposed to be in.\"]\n",
    "\n",
    "predicted_genres = predict_genre(trained_model, genre_label_encoder, trained_word2vec_model, new_descriptions)\n",
    "\n",
    "for desc, genre in zip(new_descriptions, predicted_genres):\n",
    "    print(f\"Description: {desc}\")\n",
    "    print(f\"Predicted Genre: {genre}\\n\")"
   ]
  }
 ],
 "metadata": {
  "kernelspec": {
   "display_name": "Python 3",
   "language": "python",
   "name": "python3"
  },
  "language_info": {
   "codemirror_mode": {
    "name": "ipython",
    "version": 3
   },
   "file_extension": ".py",
   "mimetype": "text/x-python",
   "name": "python",
   "nbconvert_exporter": "python",
   "pygments_lexer": "ipython3",
   "version": "3.11.2"
  },
  "orig_nbformat": 4
 },
 "nbformat": 4,
 "nbformat_minor": 2
}
